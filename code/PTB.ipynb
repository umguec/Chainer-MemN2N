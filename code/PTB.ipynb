{
 "cells": [
  {
   "cell_type": "code",
   "execution_count": 1,
   "metadata": {
    "collapsed": true
   },
   "outputs": [],
   "source": [
    "root = '..'\n",
    "words = 10000"
   ]
  },
  {
   "cell_type": "code",
   "execution_count": 2,
   "metadata": {},
   "outputs": [],
   "source": [
    "import errno\n",
    "import mem_N2N\n",
    "import os"
   ]
  },
  {
   "cell_type": "code",
   "execution_count": 3,
   "metadata": {
    "collapsed": true
   },
   "outputs": [],
   "source": [
    "def callback(self):\n",
    "    for i in ['training', 'validation']:\n",
    "        print '{0} loss: {1}; {0} perplexity: {2}; {0} throughput: {3}.'.format(\n",
    "            i,\n",
    "            self.log[i, 'loss'][-1],\n",
    "            self.log[i, 'perplexity'][-1],\n",
    "            self.log[i, 'throughput'][-1]\n",
    "        )\n",
    "\n",
    "    try:\n",
    "        os.makedirs('{}/dump/PTB/{}/'.format(self.kwargs['root'], self.optimizer.epoch))\n",
    "    except OSError as e:\n",
    "        if e.errno != errno.EEXIST:\n",
    "            raise\n",
    "\n",
    "    self.save('{}/dump/PTB/{}/'.format(self.kwargs['root'], self.optimizer.epoch))"
   ]
  },
  {
   "cell_type": "code",
   "execution_count": 4,
   "metadata": {
    "collapsed": true
   },
   "outputs": [],
   "source": [
    "X = {}\n",
    "\n",
    "for i, j in zip(['test', 'train', 'valid'], ['test', 'training', 'validation']):\n",
    "    with open('{}/data/ptb.{}.txt'.format(root, i)) as f:\n",
    "        X[j] = f.read().lower().replace('\\n', '<eos>').split()\n",
    "\n",
    "corpus = [i for i in X['test'] + X['training'] + X['validation'] if i != '<unk>']\n",
    "memN2N = mem_N2N.MemN2N(corpus, words, root = root).to_gpu()\n",
    "# memN2N = mem_N2N.MemN2N.load(prefix).to_gpu()\n",
    "\n",
    "for i in ['test', 'training', 'validation']:\n",
    "    X[i] = memN2N.vocabulary.word2id(X[i])"
   ]
  },
  {
   "cell_type": "code",
   "execution_count": 5,
   "metadata": {},
   "outputs": [
    {
     "data": {
      "application/vnd.jupyter.widget-view+json": {
       "model_id": "d208b2aaa3034e02aaaf8b394d69b40c"
      }
     },
     "metadata": {},
     "output_type": "display_data"
    },
    {
     "data": {
      "application/vnd.jupyter.widget-view+json": {
       "model_id": "7350eaf89c13410e97e70acf683b0f19"
      }
     },
     "metadata": {},
     "output_type": "display_data"
    },
    {
     "data": {
      "application/vnd.jupyter.widget-view+json": {
       "model_id": "1a0c477981174a9aae5f6addab2040d4"
      }
     },
     "metadata": {},
     "output_type": "display_data"
    },
    {
     "name": "stdout",
     "output_type": "stream",
     "text": [
      "training loss: 6.54458242431; training perplexity: 695.466208522; training throughput: 3635.62275814.\n",
      "validation loss: 5.99538585405; validation perplexity: 401.57160213; validation throughput: 10306.5435358.\n"
     ]
    },
    {
     "data": {
      "application/vnd.jupyter.widget-view+json": {
       "model_id": "7aa07dcfe14149ad825bddc5864e73c1"
      }
     },
     "metadata": {},
     "output_type": "display_data"
    },
    {
     "data": {
      "application/vnd.jupyter.widget-view+json": {
       "model_id": "fe14df93c49c457db92718b4c463d914"
      }
     },
     "metadata": {},
     "output_type": "display_data"
    },
    {
     "name": "stdout",
     "output_type": "stream",
     "text": [
      "training loss: 5.73588420436; training perplexity: 309.786764504; training throughput: 3622.21196891.\n",
      "validation loss: 5.50708964397; validation perplexity: 246.432874987; validation throughput: 10084.6777443.\n"
     ]
    },
    {
     "data": {
      "application/vnd.jupyter.widget-view+json": {
       "model_id": "bd509ee762a04540a6f4ad2bc9b28559"
      }
     },
     "metadata": {},
     "output_type": "display_data"
    },
    {
     "data": {
      "application/vnd.jupyter.widget-view+json": {
       "model_id": "c305ef15f63544d59a3cc327e81173a2"
      }
     },
     "metadata": {},
     "output_type": "display_data"
    },
    {
     "name": "stdout",
     "output_type": "stream",
     "text": [
      "training loss: 5.37901457696; training perplexity: 216.808522011; training throughput: 3634.76083304.\n",
      "validation loss: 5.3229760453; validation perplexity: 204.993043681; validation throughput: 10060.7054389.\n"
     ]
    },
    {
     "data": {
      "application/vnd.jupyter.widget-view+json": {
       "model_id": "1ddf90155e994439ad60ab5e7971ba8f"
      }
     },
     "metadata": {},
     "output_type": "display_data"
    },
    {
     "data": {
      "application/vnd.jupyter.widget-view+json": {
       "model_id": "f17a9e8937384c2db3be2ef9fa1f8650"
      }
     },
     "metadata": {},
     "output_type": "display_data"
    },
    {
     "name": "stdout",
     "output_type": "stream",
     "text": [
      "training loss: 5.17088672669; training perplexity: 176.070895045; training throughput: 3691.58768053.\n",
      "validation loss: 5.19486190212; validation perplexity: 180.343236058; validation throughput: 9704.92341668.\n"
     ]
    },
    {
     "data": {
      "application/vnd.jupyter.widget-view+json": {
       "model_id": "176cee46a04f4b7bb1d9b50c63c5f165"
      }
     },
     "metadata": {},
     "output_type": "display_data"
    },
    {
     "data": {
      "application/vnd.jupyter.widget-view+json": {
       "model_id": "8608995b60b84625b2976636db857832"
      }
     },
     "metadata": {},
     "output_type": "display_data"
    },
    {
     "name": "stdout",
     "output_type": "stream",
     "text": [
      "training loss: 5.02204993841; training perplexity: 151.722005993; training throughput: 3629.5031499.\n",
      "validation loss: 5.11738066051; validation perplexity: 166.897635017; validation throughput: 9999.54955095.\n"
     ]
    },
    {
     "data": {
      "application/vnd.jupyter.widget-view+json": {
       "model_id": "feabe0b1044f4182b5c2aaf553c9ad8e"
      }
     },
     "metadata": {},
     "output_type": "display_data"
    },
    {
     "data": {
      "application/vnd.jupyter.widget-view+json": {
       "model_id": "f670a02937124734977d148f11c78ddb"
      }
     },
     "metadata": {},
     "output_type": "display_data"
    },
    {
     "name": "stdout",
     "output_type": "stream",
     "text": [
      "training loss: 4.90660494924; training perplexity: 135.179692543; training throughput: 3625.66169075.\n",
      "validation loss: 5.09889634293; validation perplexity: 163.84098322; validation throughput: 10405.1847973.\n"
     ]
    },
    {
     "data": {
      "application/vnd.jupyter.widget-view+json": {
       "model_id": "cd79c15b76b847abb00aaf4b91696367"
      }
     },
     "metadata": {},
     "output_type": "display_data"
    },
    {
     "data": {
      "application/vnd.jupyter.widget-view+json": {
       "model_id": "7c1fade5ecc64e39a4e42b87929ed19f"
      }
     },
     "metadata": {},
     "output_type": "display_data"
    },
    {
     "name": "stdout",
     "output_type": "stream",
     "text": [
      "training loss: 4.81323657914; training perplexity: 123.129491639; training throughput: 3824.14918177.\n",
      "validation loss: 5.05552882128; validation perplexity: 156.887473846; validation throughput: 10354.3489596.\n"
     ]
    },
    {
     "data": {
      "application/vnd.jupyter.widget-view+json": {
       "model_id": "8ad1f1a95825470fa455e845feb7c9aa"
      }
     },
     "metadata": {},
     "output_type": "display_data"
    },
    {
     "data": {
      "application/vnd.jupyter.widget-view+json": {
       "model_id": "44ec8e332ff84eb5852cabec3a8f089f"
      }
     },
     "metadata": {},
     "output_type": "display_data"
    },
    {
     "name": "stdout",
     "output_type": "stream",
     "text": [
      "training loss: 4.73362874813; training perplexity: 113.707430239; training throughput: 3827.01413241.\n",
      "validation loss: 4.97948418855; validation perplexity: 145.399363651; validation throughput: 10465.1107283.\n"
     ]
    },
    {
     "data": {
      "application/vnd.jupyter.widget-view+json": {
       "model_id": "64bcd3dc07b54c5e8b2aef5aad06f637"
      }
     },
     "metadata": {},
     "output_type": "display_data"
    },
    {
     "data": {
      "application/vnd.jupyter.widget-view+json": {
       "model_id": "aa0c1268c3fa4ef7a16e2e03eb1c6255"
      }
     },
     "metadata": {},
     "output_type": "display_data"
    },
    {
     "name": "stdout",
     "output_type": "stream",
     "text": [
      "training loss: 4.6650816026; training perplexity: 106.174248964; training throughput: 3826.80419242.\n",
      "validation loss: 4.94806184243; validation perplexity: 140.901609584; validation throughput: 10371.6253043.\n"
     ]
    },
    {
     "data": {
      "application/vnd.jupyter.widget-view+json": {
       "model_id": "9a25b3cd16064358a2276bdc6cb55e9e"
      }
     },
     "metadata": {},
     "output_type": "display_data"
    },
    {
     "data": {
      "application/vnd.jupyter.widget-view+json": {
       "model_id": "2e5f8bed192446f5b671cfd94b57b029"
      }
     },
     "metadata": {},
     "output_type": "display_data"
    },
    {
     "name": "stdout",
     "output_type": "stream",
     "text": [
      "training loss: 4.60459112902; training perplexity: 99.9421110656; training throughput: 3814.24418225.\n",
      "validation loss: 4.91177681595; validation perplexity: 135.880634922; validation throughput: 10470.7677966.\n"
     ]
    },
    {
     "data": {
      "application/vnd.jupyter.widget-view+json": {
       "model_id": "c90b9aacf6684e89ba6aa6fd9b8cbe82"
      }
     },
     "metadata": {},
     "output_type": "display_data"
    },
    {
     "data": {
      "application/vnd.jupyter.widget-view+json": {
       "model_id": "84c177994bc24580a2655542116ac71a"
      }
     },
     "metadata": {},
     "output_type": "display_data"
    },
    {
     "name": "stdout",
     "output_type": "stream",
     "text": [
      "training loss: 4.55150381256; training perplexity: 94.7748247763; training throughput: 3834.79819128.\n",
      "validation loss: 4.89177984092; validation perplexity: 133.190420975; validation throughput: 10436.3234786.\n"
     ]
    },
    {
     "data": {
      "application/vnd.jupyter.widget-view+json": {
       "model_id": "80176a488f5844bc8b2865397cca1c9e"
      }
     },
     "metadata": {},
     "output_type": "display_data"
    },
    {
     "data": {
      "application/vnd.jupyter.widget-view+json": {
       "model_id": "1ffcffb62ed4450cabeb4a944a6cb15d"
      }
     },
     "metadata": {},
     "output_type": "display_data"
    },
    {
     "name": "stdout",
     "output_type": "stream",
     "text": [
      "training loss: 4.50285479855; training perplexity: 90.2744792395; training throughput: 3830.69883071.\n",
      "validation loss: 4.90954543053; validation perplexity: 135.577770884; validation throughput: 10387.6163454.\n"
     ]
    },
    {
     "data": {
      "application/vnd.jupyter.widget-view+json": {
       "model_id": "c901c588ca1d45279188dbfabcff3008"
      }
     },
     "metadata": {},
     "output_type": "display_data"
    },
    {
     "data": {
      "application/vnd.jupyter.widget-view+json": {
       "model_id": "33d7eca0b748409c83a5f038f17ef0a5"
      }
     },
     "metadata": {},
     "output_type": "display_data"
    },
    {
     "name": "stdout",
     "output_type": "stream",
     "text": [
      "training loss: 4.37248017663; training perplexity: 79.2399171786; training throughput: 3757.06096309.\n",
      "validation loss: 4.83832440227; validation perplexity: 126.257617412; validation throughput: 10132.3981179.\n"
     ]
    },
    {
     "data": {
      "application/vnd.jupyter.widget-view+json": {
       "model_id": "4bcd66a27460439fb67a3ea9d85cd75f"
      }
     },
     "metadata": {},
     "output_type": "display_data"
    },
    {
     "data": {
      "application/vnd.jupyter.widget-view+json": {
       "model_id": "0973e19b83a84d2ea0f53b74127c56a6"
      }
     },
     "metadata": {},
     "output_type": "display_data"
    },
    {
     "name": "stdout",
     "output_type": "stream",
     "text": [
      "training loss: 4.33190655744; training perplexity: 76.089216829; training throughput: 3661.20609052.\n",
      "validation loss: 4.82254752023; validation perplexity: 124.281296956; validation throughput: 10274.0348216.\n"
     ]
    },
    {
     "data": {
      "application/vnd.jupyter.widget-view+json": {
       "model_id": "708e6603e9104f02ae6022eefce95257"
      }
     },
     "metadata": {},
     "output_type": "display_data"
    },
    {
     "data": {
      "application/vnd.jupyter.widget-view+json": {
       "model_id": "b5624ef5fc8f4f2a97d2132c4964d7eb"
      }
     },
     "metadata": {},
     "output_type": "display_data"
    },
    {
     "name": "stdout",
     "output_type": "stream",
     "text": [
      "training loss: 4.29979581586; training perplexity: 73.6847469067; training throughput: 3711.860056.\n",
      "validation loss: 4.82234517744; validation perplexity: 124.256152076; validation throughput: 10247.5466246.\n"
     ]
    },
    {
     "data": {
      "application/vnd.jupyter.widget-view+json": {
       "model_id": "788c19ffe7324f33b7aee93414a5bb32"
      }
     },
     "metadata": {},
     "output_type": "display_data"
    },
    {
     "data": {
      "application/vnd.jupyter.widget-view+json": {
       "model_id": "c1097e8534024bb5acd8176074fda535"
      }
     },
     "metadata": {},
     "output_type": "display_data"
    },
    {
     "name": "stdout",
     "output_type": "stream",
     "text": [
      "training loss: 4.20592618931; training perplexity: 67.0827001824; training throughput: 3750.37607869.\n",
      "validation loss: 4.81633456482; validation perplexity: 123.511536519; validation throughput: 10413.9362158.\n"
     ]
    },
    {
     "data": {
      "application/vnd.jupyter.widget-view+json": {
       "model_id": "a88746aec6464ad6a6f92adbb502f02a"
      }
     },
     "metadata": {},
     "output_type": "display_data"
    },
    {
     "data": {
      "application/vnd.jupyter.widget-view+json": {
       "model_id": "7e198ea31ba144f3a9763a68b68a285b"
      }
     },
     "metadata": {},
     "output_type": "display_data"
    },
    {
     "name": "stdout",
     "output_type": "stream",
     "text": [
      "training loss: 4.17919713821; training perplexity: 65.3133945295; training throughput: 3624.65563638.\n",
      "validation loss: 4.80523665869; validation perplexity: 122.14839508; validation throughput: 10392.6651552.\n"
     ]
    },
    {
     "data": {
      "application/vnd.jupyter.widget-view+json": {
       "model_id": "0b9362c8347d4c2394aa9d7f556a1306"
      }
     },
     "metadata": {},
     "output_type": "display_data"
    },
    {
     "data": {
      "application/vnd.jupyter.widget-view+json": {
       "model_id": "f553915f36f944d9928cdefb2264dd81"
      }
     },
     "metadata": {},
     "output_type": "display_data"
    },
    {
     "name": "stdout",
     "output_type": "stream",
     "text": [
      "training loss: 4.15591648246; training perplexity: 63.8104188872; training throughput: 3726.74194369.\n",
      "validation loss: 4.82411980421; validation perplexity: 124.476856145; validation throughput: 10454.464024.\n"
     ]
    },
    {
     "data": {
      "application/vnd.jupyter.widget-view+json": {
       "model_id": "d09bfbf509634628985689910d956735"
      }
     },
     "metadata": {},
     "output_type": "display_data"
    },
    {
     "data": {
      "application/vnd.jupyter.widget-view+json": {
       "model_id": "4267afa7a6c44b48b17af037eb384322"
      }
     },
     "metadata": {},
     "output_type": "display_data"
    },
    {
     "name": "stdout",
     "output_type": "stream",
     "text": [
      "training loss: 4.08819564115; training perplexity: 59.6321966912; training throughput: 3868.88436794.\n",
      "validation loss: 4.80227577138; validation perplexity: 121.787262348; validation throughput: 10371.6461951.\n"
     ]
    },
    {
     "data": {
      "application/vnd.jupyter.widget-view+json": {
       "model_id": "01c3e76d337d4e48bbd1f1018ab5ff0b"
      }
     },
     "metadata": {},
     "output_type": "display_data"
    },
    {
     "data": {
      "application/vnd.jupyter.widget-view+json": {
       "model_id": "ada7efcd1ab1424fbf4d6a826fbeef1e"
      }
     },
     "metadata": {},
     "output_type": "display_data"
    },
    {
     "name": "stdout",
     "output_type": "stream",
     "text": [
      "training loss: 4.0693509472; training perplexity: 58.5189683631; training throughput: 3831.94091559.\n",
      "validation loss: 4.79942901461; validation perplexity: 121.44105665; validation throughput: 10457.6654944.\n"
     ]
    },
    {
     "data": {
      "application/vnd.jupyter.widget-view+json": {
       "model_id": "0ff81adf32ae4e7a8949dfbf7e5c670c"
      }
     },
     "metadata": {},
     "output_type": "display_data"
    },
    {
     "data": {
      "application/vnd.jupyter.widget-view+json": {
       "model_id": "055b65e1121543c1b104465037dc21e0"
      }
     },
     "metadata": {},
     "output_type": "display_data"
    },
    {
     "name": "stdout",
     "output_type": "stream",
     "text": [
      "training loss: 4.05305608559; training perplexity: 57.5731368967; training throughput: 3840.46133861.\n",
      "validation loss: 4.81341766795; validation perplexity: 123.15179103; validation throughput: 10517.1010611.\n"
     ]
    },
    {
     "data": {
      "application/vnd.jupyter.widget-view+json": {
       "model_id": "057a2d4aa55547a18f061f5989f9e803"
      }
     },
     "metadata": {},
     "output_type": "display_data"
    },
    {
     "data": {
      "application/vnd.jupyter.widget-view+json": {
       "model_id": "67bc275d69e74f819df3900708da0e5b"
      }
     },
     "metadata": {},
     "output_type": "display_data"
    },
    {
     "name": "stdout",
     "output_type": "stream",
     "text": [
      "training loss: 4.00461078616; training perplexity: 54.8504716813; training throughput: 3830.82998117.\n",
      "validation loss: 4.80050691102; validation perplexity: 121.572028102; validation throughput: 10342.4494684.\n"
     ]
    },
    {
     "data": {
      "application/vnd.jupyter.widget-view+json": {
       "model_id": "f1ccddc61e4146cd871f8fad1fac76ca"
      }
     },
     "metadata": {},
     "output_type": "display_data"
    },
    {
     "data": {
      "application/vnd.jupyter.widget-view+json": {
       "model_id": "639e1d1014b845e294dd2d5455ed6275"
      }
     },
     "metadata": {},
     "output_type": "display_data"
    },
    {
     "name": "stdout",
     "output_type": "stream",
     "text": [
      "training loss: 3.99142264509; training perplexity: 54.1318450136; training throughput: 3844.83947197.\n",
      "validation loss: 4.80992604799; validation perplexity: 122.722541603; validation throughput: 10452.6735844.\n"
     ]
    },
    {
     "data": {
      "application/vnd.jupyter.widget-view+json": {
       "model_id": "50d44d84329f4eddb02803c98a950061"
      }
     },
     "metadata": {},
     "output_type": "display_data"
    },
    {
     "data": {
      "application/vnd.jupyter.widget-view+json": {
       "model_id": "20e518d8fff645e6ac8ec73934970db0"
      }
     },
     "metadata": {},
     "output_type": "display_data"
    },
    {
     "name": "stdout",
     "output_type": "stream",
     "text": [
      "training loss: 3.9566137289; training perplexity: 52.2799916428; training throughput: 3826.94001254.\n",
      "validation loss: 4.80861791097; validation perplexity: 122.562108661; validation throughput: 10351.4212894.\n"
     ]
    },
    {
     "data": {
      "application/vnd.jupyter.widget-view+json": {
       "model_id": "472f9583240e449283455a5012e71b75"
      }
     },
     "metadata": {},
     "output_type": "display_data"
    },
    {
     "data": {
      "application/vnd.jupyter.widget-view+json": {
       "model_id": "2516549b94864ef6b880f1357a75afb6"
      }
     },
     "metadata": {},
     "output_type": "display_data"
    },
    {
     "name": "stdout",
     "output_type": "stream",
     "text": [
      "training loss: 3.94743781522; training perplexity: 51.8024691555; training throughput: 3847.41328429.\n",
      "validation loss: 4.81446945329; validation perplexity: 123.281388421; validation throughput: 10461.0651546.\n"
     ]
    },
    {
     "data": {
      "application/vnd.jupyter.widget-view+json": {
       "model_id": "a12d6079484f4607aa2b84655ffff688"
      }
     },
     "metadata": {},
     "output_type": "display_data"
    },
    {
     "data": {
      "application/vnd.jupyter.widget-view+json": {
       "model_id": "bc16512c6d164f0881fb52509a823367"
      }
     },
     "metadata": {},
     "output_type": "display_data"
    },
    {
     "name": "stdout",
     "output_type": "stream",
     "text": [
      "training loss: 3.92334572424; training perplexity: 50.5693531708; training throughput: 3801.16845821.\n",
      "validation loss: 4.7990841994; validation perplexity: 121.399189144; validation throughput: 10438.6514402.\n"
     ]
    },
    {
     "data": {
      "application/vnd.jupyter.widget-view+json": {
       "model_id": "a570f661512a4ce2aa2819934d86a5fe"
      }
     },
     "metadata": {},
     "output_type": "display_data"
    },
    {
     "data": {
      "application/vnd.jupyter.widget-view+json": {
       "model_id": "768fb2728d1f4133a5ef31eb55cabe24"
      }
     },
     "metadata": {},
     "output_type": "display_data"
    },
    {
     "name": "stdout",
     "output_type": "stream",
     "text": [
      "training loss: 3.91703078296; training perplexity: 50.2510168703; training throughput: 3803.60912217.\n",
      "validation loss: 4.82293770881; validation perplexity: 124.329799561; validation throughput: 10321.1653661.\n"
     ]
    },
    {
     "data": {
      "application/vnd.jupyter.widget-view+json": {
       "model_id": "4e749e4881bc441c9fded508e3d15d07"
      }
     },
     "metadata": {},
     "output_type": "display_data"
    },
    {
     "data": {
      "application/vnd.jupyter.widget-view+json": {
       "model_id": "09c519d059de436986163ea97143ae46"
      }
     },
     "metadata": {},
     "output_type": "display_data"
    },
    {
     "name": "stdout",
     "output_type": "stream",
     "text": [
      "training loss: 3.90024865249; training perplexity: 49.414734675; training throughput: 3842.38625272.\n",
      "validation loss: 4.81850815223; validation perplexity: 123.780291616; validation throughput: 10322.4467979.\n"
     ]
    },
    {
     "data": {
      "application/vnd.jupyter.widget-view+json": {
       "model_id": "8794493510c5464d86f0acd5ed9df1cc"
      }
     },
     "metadata": {},
     "output_type": "display_data"
    },
    {
     "data": {
      "application/vnd.jupyter.widget-view+json": {
       "model_id": "fea32489338842eba4d5edb914d5082d"
      }
     },
     "metadata": {},
     "output_type": "display_data"
    },
    {
     "name": "stdout",
     "output_type": "stream",
     "text": [
      "training loss: 3.895868695; training perplexity: 49.1987735329; training throughput: 3869.55883238.\n",
      "validation loss: 4.81534838636; validation perplexity: 123.389792144; validation throughput: 10534.8429862.\n"
     ]
    },
    {
     "data": {
      "application/vnd.jupyter.widget-view+json": {
       "model_id": "ec15d2998c3c435da0d90cea990b7ba8"
      }
     },
     "metadata": {},
     "output_type": "display_data"
    },
    {
     "data": {
      "application/vnd.jupyter.widget-view+json": {
       "model_id": "5eebab16f9aa4037b724535be138d99b"
      }
     },
     "metadata": {},
     "output_type": "display_data"
    },
    {
     "name": "stdout",
     "output_type": "stream",
     "text": [
      "training loss: 3.8920441835; training perplexity: 49.010971612; training throughput: 3818.4310937.\n",
      "validation loss: 4.82483026037; validation perplexity: 124.565322917; validation throughput: 10204.9527022.\n"
     ]
    },
    {
     "data": {
      "application/vnd.jupyter.widget-view+json": {
       "model_id": "739558266b0a4e77bcc18bd0cb9998fe"
      }
     },
     "metadata": {},
     "output_type": "display_data"
    },
    {
     "data": {
      "application/vnd.jupyter.widget-view+json": {
       "model_id": "57c2275a54d5461eabe32d865c3771b2"
      }
     },
     "metadata": {},
     "output_type": "display_data"
    },
    {
     "name": "stdout",
     "output_type": "stream",
     "text": [
      "training loss: 3.88044763734; training perplexity: 48.4458964104; training throughput: 3745.33989036.\n",
      "validation loss: 4.81562436433; validation perplexity: 123.423849707; validation throughput: 10435.3583243.\n"
     ]
    },
    {
     "data": {
      "application/vnd.jupyter.widget-view+json": {
       "model_id": "a82ee92e5ea8491a853de80c2fc64673"
      }
     },
     "metadata": {},
     "output_type": "display_data"
    },
    {
     "data": {
      "application/vnd.jupyter.widget-view+json": {
       "model_id": "1f0e791fd66e454f8368e512cf0052dd"
      }
     },
     "metadata": {},
     "output_type": "display_data"
    },
    {
     "name": "stdout",
     "output_type": "stream",
     "text": [
      "training loss: 3.87759681601; training perplexity: 48.3079824929; training throughput: 3668.93920442.\n",
      "validation loss: 4.8206758711; validation perplexity: 124.048903522; validation throughput: 10103.0953207.\n"
     ]
    },
    {
     "data": {
      "application/vnd.jupyter.widget-view+json": {
       "model_id": "07bcb353b1cc417cb5017b61652c411e"
      }
     },
     "metadata": {},
     "output_type": "display_data"
    },
    {
     "data": {
      "application/vnd.jupyter.widget-view+json": {
       "model_id": "089d7d0b55a04cb4ab3579aca962949d"
      }
     },
     "metadata": {},
     "output_type": "display_data"
    },
    {
     "name": "stdout",
     "output_type": "stream",
     "text": [
      "training loss: 3.86964314051; training perplexity: 47.9252804379; training throughput: 3780.90827641.\n",
      "validation loss: 4.82098810578; validation perplexity: 124.087641939; validation throughput: 10264.303745.\n"
     ]
    },
    {
     "data": {
      "application/vnd.jupyter.widget-view+json": {
       "model_id": "c01e35342f984982a5e78c90112eb39d"
      }
     },
     "metadata": {},
     "output_type": "display_data"
    },
    {
     "data": {
      "application/vnd.jupyter.widget-view+json": {
       "model_id": "06cd185ae0204095b64c66c6fec3926f"
      }
     },
     "metadata": {},
     "output_type": "display_data"
    },
    {
     "name": "stdout",
     "output_type": "stream",
     "text": [
      "training loss: 3.86399453846; training perplexity: 47.6553327316; training throughput: 3733.60479454.\n",
      "validation loss: 4.82268866729; validation perplexity: 124.298840134; validation throughput: 9784.85531181.\n"
     ]
    },
    {
     "data": {
      "application/vnd.jupyter.widget-view+json": {
       "model_id": "319770d81df142039483fbabd789687e"
      }
     },
     "metadata": {},
     "output_type": "display_data"
    },
    {
     "data": {
      "application/vnd.jupyter.widget-view+json": {
       "model_id": "a1d5f63e12794dd386423cd64a048e7b"
      }
     },
     "metadata": {},
     "output_type": "display_data"
    },
    {
     "name": "stdout",
     "output_type": "stream",
     "text": [
      "training loss: 3.86011623563; training perplexity: 47.4708688547; training throughput: 3741.51990091.\n",
      "validation loss: 4.82186618982; validation perplexity: 124.196649168; validation throughput: 9979.70199317.\n"
     ]
    },
    {
     "data": {
      "application/vnd.jupyter.widget-view+json": {
       "model_id": "af4fea77ebb84392a46a500b9f129d95"
      }
     },
     "metadata": {},
     "output_type": "display_data"
    },
    {
     "data": {
      "application/vnd.jupyter.widget-view+json": {
       "model_id": "331df92b39234c8a97e38b33d3d4f369"
      }
     },
     "metadata": {},
     "output_type": "display_data"
    },
    {
     "name": "stdout",
     "output_type": "stream",
     "text": [
      "training loss: 3.85922424128; training perplexity: 47.4285439874; training throughput: 3745.53329689.\n",
      "validation loss: 4.82250429356; validation perplexity: 124.275924806; validation throughput: 10318.7437223.\n"
     ]
    },
    {
     "data": {
      "application/vnd.jupyter.widget-view+json": {
       "model_id": "3bcbc2ed27684b5582b72fb4bd89fa96"
      }
     },
     "metadata": {},
     "output_type": "display_data"
    },
    {
     "data": {
      "application/vnd.jupyter.widget-view+json": {
       "model_id": "a05231436210431097c865409f45fb1e"
      }
     },
     "metadata": {},
     "output_type": "display_data"
    },
    {
     "name": "stdout",
     "output_type": "stream",
     "text": [
      "training loss: 3.85664591159; training perplexity: 47.3064150763; training throughput: 3792.7264005.\n",
      "validation loss: 4.82490736407; validation perplexity: 124.574927734; validation throughput: 10442.7404036.\n"
     ]
    },
    {
     "data": {
      "application/vnd.jupyter.widget-view+json": {
       "model_id": "314fd684f1a14638b65ff0a9b7d5f085"
      }
     },
     "metadata": {},
     "output_type": "display_data"
    },
    {
     "data": {
      "application/vnd.jupyter.widget-view+json": {
       "model_id": "f38e27d86f02424eb2bf982de7b46b65"
      }
     },
     "metadata": {},
     "output_type": "display_data"
    },
    {
     "name": "stdout",
     "output_type": "stream",
     "text": [
      "training loss: 3.85485064255; training perplexity: 47.2215635221; training throughput: 3804.21440368.\n",
      "validation loss: 4.82593468618; validation perplexity: 124.702972072; validation throughput: 10362.097802.\n"
     ]
    },
    {
     "data": {
      "application/vnd.jupyter.widget-view+json": {
       "model_id": "5394609333b04d5796fb828658a7b97a"
      }
     },
     "metadata": {},
     "output_type": "display_data"
    },
    {
     "data": {
      "application/vnd.jupyter.widget-view+json": {
       "model_id": "d1034168c7a0469284c06d9e0e1d3e33"
      }
     },
     "metadata": {},
     "output_type": "display_data"
    },
    {
     "name": "stdout",
     "output_type": "stream",
     "text": [
      "training loss: 3.85362776255; training perplexity: 47.1638525108; training throughput: 3817.90543387.\n",
      "validation loss: 4.82665737643; validation perplexity: 124.793126267; validation throughput: 10329.2109638.\n"
     ]
    },
    {
     "data": {
      "application/vnd.jupyter.widget-view+json": {
       "model_id": "31c10593d0ba439aacfb40d32ccc9095"
      }
     },
     "metadata": {},
     "output_type": "display_data"
    },
    {
     "data": {
      "application/vnd.jupyter.widget-view+json": {
       "model_id": "93e260c418a74ad08050bbe3af0023fe"
      }
     },
     "metadata": {},
     "output_type": "display_data"
    },
    {
     "name": "stdout",
     "output_type": "stream",
     "text": [
      "training loss: 3.85278253859; training perplexity: 47.1240053348; training throughput: 3768.66483346.\n",
      "validation loss: 4.82619552706; validation perplexity: 124.735503947; validation throughput: 10214.2213188.\n"
     ]
    },
    {
     "data": {
      "application/vnd.jupyter.widget-view+json": {
       "model_id": "08de618aa6b349f59506a8d7e69fa186"
      }
     },
     "metadata": {},
     "output_type": "display_data"
    },
    {
     "data": {
      "application/vnd.jupyter.widget-view+json": {
       "model_id": "7dd571861e604e33b17e12e4b10a1eed"
      }
     },
     "metadata": {},
     "output_type": "display_data"
    },
    {
     "name": "stdout",
     "output_type": "stream",
     "text": [
      "training loss: 3.85220590195; training perplexity: 47.0968397397; training throughput: 3805.72607665.\n",
      "validation loss: 4.82574174411; validation perplexity: 124.678913944; validation throughput: 10422.0473476.\n"
     ]
    },
    {
     "data": {
      "application/vnd.jupyter.widget-view+json": {
       "model_id": "50641f83c5be479d868f1b471680ee61"
      }
     },
     "metadata": {},
     "output_type": "display_data"
    },
    {
     "data": {
      "application/vnd.jupyter.widget-view+json": {
       "model_id": "c4e54d3bb255499da3be17129818367f"
      }
     },
     "metadata": {},
     "output_type": "display_data"
    },
    {
     "name": "stdout",
     "output_type": "stream",
     "text": [
      "training loss: 3.85181573136; training perplexity: 47.0784675223; training throughput: 3830.3075143.\n",
      "validation loss: 4.8274614808; validation perplexity: 124.89351332; validation throughput: 10446.4856953.\n",
      "\n"
     ]
    }
   ],
   "source": [
    "memN2N.train_and_validate(X, callback)"
   ]
  },
  {
   "cell_type": "code",
   "execution_count": 6,
   "metadata": {},
   "outputs": [
    {
     "data": {
      "application/vnd.jupyter.widget-view+json": {
       "model_id": "9d3b447aa43e481eb0e6eace6aeeba6c"
      }
     },
     "metadata": {},
     "output_type": "display_data"
    },
    {
     "name": "stdout",
     "output_type": "stream",
     "text": [
      "\r",
      "test loss: 4.75725243674; test perplexity: 116.425599342; test throughput: 10371.4523101\n"
     ]
    }
   ],
   "source": [
    "loss, perplexity, throughput = memN2N.test(X)\n",
    "\n",
    "print 'test loss: {}; test perplexity: {}; test throughput: {}'.format(\n",
    "    loss, perplexity, throughput\n",
    ")"
   ]
  }
 ],
 "metadata": {
  "kernelspec": {
   "display_name": "Python 2",
   "language": "python",
   "name": "python2"
  },
  "language_info": {
   "codemirror_mode": {
    "name": "ipython",
    "version": 2
   },
   "file_extension": ".py",
   "mimetype": "text/x-python",
   "name": "python",
   "nbconvert_exporter": "python",
   "pygments_lexer": "ipython2",
   "version": "2.7.13"
  }
 },
 "nbformat": 4,
 "nbformat_minor": 2
}
